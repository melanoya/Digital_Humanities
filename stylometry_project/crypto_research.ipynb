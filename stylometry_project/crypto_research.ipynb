{
 "cells": [
  {
   "cell_type": "markdown",
   "metadata": {},
   "source": [
    "# Satoshi Nakamoto и компания\n",
    "\n",
    "В поисках подозравеамых мы изучили статью [Поиск создателя Bitcoin](https://habr.com/post/130248/) на хабре и статью про [Сатоши Накамото](https://en.wikipedia.org/wiki/Satoshi_Nakamoto) в Википедии. Поисследовав источники, мы составили такой список подозреваемых:\n",
    "\n",
    "* Ник Сабо\n",
    "* Дориан Накамото\n",
    "* Крейг Стивен Райт\n",
    "* Вилли Лехдонвирта\n",
    "* Майкл Клир\n",
    "* Нил Кинг (Neal King), Чарльз Брай (Charles Bry) и Владимир Оксман (Vladimir Oksman)"
   ]
  }
 ],
 "metadata": {
  "kernelspec": {
   "display_name": "Python 3",
   "language": "python",
   "name": "python3"
  },
  "language_info": {
   "codemirror_mode": {
    "name": "ipython",
    "version": 3
   },
   "file_extension": ".py",
   "mimetype": "text/x-python",
   "name": "python",
   "nbconvert_exporter": "python",
   "pygments_lexer": "ipython3",
   "version": "3.5.2"
  }
 },
 "nbformat": 4,
 "nbformat_minor": 2
}
